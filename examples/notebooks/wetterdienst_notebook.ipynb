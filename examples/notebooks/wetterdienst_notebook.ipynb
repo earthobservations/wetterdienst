{
 "cells": [
  {
   "cell_type": "markdown",
   "metadata": {
    "collapsed": false
   },
   "source": [
    "# wetterdienst - A basic notebook example"
   ]
  },
  {
   "cell_type": "code",
   "execution_count": 1,
   "metadata": {
    "collapsed": false
   },
   "source": [
    "#!pip install wetterdienst"
   ],
   "outputs": []
  },
  {
   "cell_type": "markdown",
   "metadata": {},
   "source": [
    "## Import modules necessary for general functioning"
   ]
  },
  {
   "cell_type": "code",
   "execution_count": 2,
   "metadata": {
    "ExecuteTime": {
     "end_time": "2023-06-04T11:15:27.269721Z",
     "start_time": "2023-06-04T11:15:23.510741Z"
    },
    "collapsed": false,
    "inputHidden": false,
    "outputHidden": false
   },
   "source": [
    "from pprint import pprint\n",
    "\n",
    "import matplotlib as mpl\n",
    "import matplotlib.pyplot as plt\n",
    "import numpy as np\n",
    "import polars as pl\n",
    "from matplotlib import colormaps\n",
    "\n",
    "from wetterdienst import Settings\n",
    "from wetterdienst.provider.dwd.observation import (\n",
    "    DwdObservationDataset,\n",
    "    DwdObservationParameter,\n",
    "    DwdObservationPeriod,\n",
    "    DwdObservationRequest,\n",
    "    DwdObservationResolution,\n",
    ")"
   ],
   "outputs": []
  },
  {
   "cell_type": "code",
   "execution_count": 3,
   "metadata": {
    "ExecuteTime": {
     "end_time": "2023-06-04T11:15:27.335154Z",
     "start_time": "2023-06-04T11:15:27.268418Z"
    },
    "collapsed": false
   },
   "source": [
    "%matplotlib inline"
   ],
   "outputs": []
  },
  {
   "cell_type": "markdown",
   "metadata": {
    "collapsed": false
   },
   "source": [
    "Wetterdienst default settings"
   ]
  },
  {
   "cell_type": "code",
   "execution_count": 4,
   "metadata": {
    "ExecuteTime": {
     "end_time": "2023-06-04T11:44:47.953529Z",
     "start_time": "2023-06-04T11:44:47.950448Z"
    },
    "collapsed": false
   },
   "source": [
    "# don't display real cache_dir, which might contain sensible information\n",
    "settings = Settings.default().to_dict()\n",
    "settings.update({\"cache_dir\": \"abc\"})\n",
    "settings"
   ],
   "outputs": []
  },
  {
   "cell_type": "markdown",
   "metadata": {
    "collapsed": false
   },
   "source": [
    "## Which parameters are available?"
   ]
  },
  {
   "cell_type": "markdown",
   "metadata": {
    "collapsed": false
   },
   "source": [
    "All available parameters"
   ]
  },
  {
   "cell_type": "code",
   "execution_count": 5,
   "metadata": {
    "collapsed": false
   },
   "source": [
    "pprint(DwdObservationRequest.discover())"
   ],
   "outputs": []
  },
  {
   "cell_type": "markdown",
   "metadata": {
    "collapsed": false
   },
   "source": [
    "Selection of daily data"
   ]
  },
  {
   "cell_type": "code",
   "execution_count": 6,
   "metadata": {
    "collapsed": false
   },
   "source": [
    "pprint(DwdObservationRequest.discover(resolution=DwdObservationResolution.DAILY))"
   ],
   "outputs": []
  },
  {
   "cell_type": "markdown",
   "metadata": {},
   "source": [
    "## List of historical daily precipitation stations of DWD (Germany)"
   ]
  },
  {
   "cell_type": "code",
   "execution_count": 7,
   "metadata": {
    "ExecuteTime": {
     "end_time": "2023-06-04T11:45:03.071616Z",
     "start_time": "2023-06-04T11:45:01.813705Z"
    },
    "collapsed": false,
    "inputHidden": false,
    "outputHidden": false
   },
   "source": [
    "request = DwdObservationRequest(\n",
    "    parameters=DwdObservationDataset.PRECIPITATION_MORE,\n",
    "    resolution=DwdObservationResolution.DAILY,\n",
    "    period=DwdObservationPeriod.HISTORICAL,\n",
    ").all()\n",
    "request.df.head()"
   ],
   "outputs": []
  },
  {
   "cell_type": "markdown",
   "metadata": {
    "collapsed": false
   },
   "source": [
    "Number of stations with available data"
   ]
  },
  {
   "cell_type": "code",
   "execution_count": 8,
   "metadata": {
    "ExecuteTime": {
     "end_time": "2023-06-04T11:45:10.347765Z",
     "start_time": "2023-06-04T11:45:10.341968Z"
    },
    "collapsed": false
   },
   "source": [
    "request.df.shape"
   ],
   "outputs": []
  },
  {
   "cell_type": "markdown",
   "metadata": {},
   "source": [
    "## Map of historical daily precipitation stations of DWD (Germany)"
   ]
  },
  {
   "cell_type": "code",
   "execution_count": 9,
   "metadata": {
    "ExecuteTime": {
     "start_time": "2023-06-04T11:45:12.316203Z"
    },
    "collapsed": false,
    "inputHidden": false,
    "is_executing": true,
    "outputHidden": false,
    "pycharm": {
     "is_executing": true
    }
   },
   "source": [
    "cmap = colormaps.get_cmap(\"viridis\")\n",
    "bounds = np.quantile(request.df.get_column(\"height\"), [0, 0.25, 0.5, 0.75, 1])\n",
    "norm = mpl.colors.BoundaryNorm(bounds, cmap.N)\n",
    "fig, ax = plt.subplots(figsize=(10, 10), tight_layout=True)\n",
    "plot = request.df.to_pandas().plot.scatter(x=\"longitude\", y=\"latitude\", c=\"height\", cmap=cmap, norm=norm, ax=ax)\n",
    "title = \"Map of daily precipitation stations in Germany\"\n",
    "plot.set_title(title)\n",
    "plt.show()"
   ],
   "outputs": []
  },
  {
   "cell_type": "markdown",
   "metadata": {},
   "source": [
    "## Get data for daily precipitation station - Dresden Klotzsche (1048)"
   ]
  },
  {
   "cell_type": "code",
   "execution_count": 10,
   "metadata": {
    "ExecuteTime": {
     "end_time": "2023-06-04T11:45:15.373852Z",
     "start_time": "2023-06-04T11:45:15.021510Z"
    },
    "collapsed": false,
    "inputHidden": false,
    "outputHidden": false
   },
   "source": [
    "values = (\n",
    "    DwdObservationRequest(\n",
    "        parameters=DwdObservationDataset.PRECIPITATION_MORE,\n",
    "        resolution=DwdObservationResolution.DAILY,\n",
    "        period=DwdObservationPeriod.HISTORICAL,\n",
    "    )\n",
    "    .filter_by_station_id(station_id=[1048])\n",
    "    .values.all()\n",
    "    .df\n",
    ")\n",
    "values.drop_nulls().head()"
   ],
   "outputs": []
  },
  {
   "cell_type": "markdown",
   "metadata": {},
   "source": [
    "## Get data for daily precipitation and temperature (tmin, tmean, tmax) for station - Dresden Klotzsche (1048)"
   ]
  },
  {
   "cell_type": "code",
   "execution_count": 11,
   "metadata": {
    "ExecuteTime": {
     "end_time": "2023-06-04T11:45:18.058781Z",
     "start_time": "2023-06-04T11:45:17.325913Z"
    },
    "collapsed": false
   },
   "source": [
    "parameters = [\n",
    "    DwdObservationParameter.DAILY.TEMPERATURE_AIR_MEAN_2M,\n",
    "    DwdObservationParameter.DAILY.TEMPERATURE_AIR_MAX_2M,\n",
    "    DwdObservationParameter.DAILY.TEMPERATURE_AIR_MIN_2M,\n",
    "    DwdObservationParameter.DAILY.PRECIPITATION_HEIGHT,\n",
    "]\n",
    "values = (\n",
    "    DwdObservationRequest(\n",
    "        parameters=parameters,\n",
    "        resolution=DwdObservationResolution.DAILY,\n",
    "        period=DwdObservationPeriod.HISTORICAL,\n",
    "    )\n",
    "    .filter_by_station_id(station_id=(1048,))\n",
    "    .values.all()\n",
    ")\n",
    "values.df.drop_nulls().head()"
   ],
   "outputs": []
  },
  {
   "cell_type": "markdown",
   "metadata": {
    "collapsed": false
   },
   "source": [
    "## Aggregate to annual values"
   ]
  },
  {
   "cell_type": "code",
   "execution_count": 12,
   "metadata": {
    "ExecuteTime": {
     "end_time": "2023-06-04T12:02:59.631984Z",
     "start_time": "2023-06-04T12:02:59.617309Z"
    },
    "collapsed": false
   },
   "source": [
    "data = []\n",
    "for (parameter,), group in values.df.groupby([pl.col(\"parameter\")], maintain_order=True):\n",
    "    if parameter == \"precipitation_height\":\n",
    "        agg_df = group.groupby(pl.col(\"date\").dt.year(), maintain_order=True).agg(\n",
    "            pl.when(pl.col(\"value\").is_not_null().sum() > 330).then(pl.col(\"value\").sum()),\n",
    "        )\n",
    "    else:\n",
    "        agg_df = group.groupby(pl.col(\"date\").dt.year(), maintain_order=True).agg([pl.col(\"value\").mean()])\n",
    "    agg_df = agg_df.select(\n",
    "        pl.lit(parameter).alias(\"parameter\"),\n",
    "        pl.col(\"date\").cast(pl.Utf8).str.to_datetime(\"%Y\"),\n",
    "        pl.col(\"value\"),\n",
    "    )\n",
    "    data.append(agg_df)\n",
    "df_annual = pl.concat(data)\n",
    "df_annual"
   ],
   "outputs": []
  },
  {
   "cell_type": "markdown",
   "metadata": {
    "collapsed": false
   },
   "source": [
    "## Create some plots for the data"
   ]
  },
  {
   "cell_type": "code",
   "execution_count": 13,
   "metadata": {
    "ExecuteTime": {
     "end_time": "2023-06-04T12:03:14.359620Z",
     "start_time": "2023-06-04T12:03:12.580388Z"
    },
    "collapsed": false,
    "inputHidden": false,
    "outputHidden": false
   },
   "source": [
    "cmap = plt.get_cmap(\"viridis\", 4)\n",
    "colors = cmap.colors\n",
    "fig, axes = plt.subplots(nrows=len(parameters), tight_layout=True, sharex=True, figsize=(10, 10))  #\n",
    "for (parameter, daily), (_, annual), ax, color in zip(\n",
    "    values.df.groupby(\"parameter\", maintain_order=True),\n",
    "    df_annual.groupby(\"parameter\", maintain_order=True),\n",
    "    axes,\n",
    "    colors,\n",
    "):\n",
    "    if parameter == \"precipitation_height\":\n",
    "        ax2 = ax.twinx()\n",
    "    else:\n",
    "        ax2 = ax\n",
    "    daily.to_pandas().plot(x=\"date\", y=\"value\", label=parameter, alpha=0.75, ax=ax, c=color, legend=False)\n",
    "    annual.to_pandas().plot(\n",
    "        x=\"date\",\n",
    "        y=\"value\",\n",
    "        kind=\"line\",\n",
    "        label=f\"annual({parameter})\",\n",
    "        alpha=0.75,\n",
    "        ax=ax2,\n",
    "        c=\"black\",\n",
    "        legend=False,\n",
    "    )\n",
    "    ax.legend(loc=0)\n",
    "    if ax != ax2:\n",
    "        ax2.legend(loc=3)\n",
    "plt.suptitle(\"Temperature and precipitation time series of Dresden, Germany\", y=1.01)\n",
    "plt.show()"
   ],
   "outputs": []
  },
  {
   "cell_type": "markdown",
   "metadata": {
    "collapsed": false
   },
   "source": [
    "## Find a station"
   ]
  },
  {
   "cell_type": "code",
   "execution_count": 14,
   "metadata": {
    "ExecuteTime": {
     "end_time": "2023-06-04T12:04:14.498876Z",
     "start_time": "2023-06-04T12:04:14.489896Z"
    },
    "collapsed": false
   },
   "source": [
    "request = DwdObservationRequest(\n",
    "    parameters=DwdObservationParameter.DAILY.CLIMATE_SUMMARY.TEMPERATURE_AIR_MEAN_2M,\n",
    "    resolution=DwdObservationResolution.DAILY,\n",
    "    period=DwdObservationPeriod.HISTORICAL,\n",
    "    start_date=\"1930-01-01\",\n",
    "    end_date=\"1970-01-01\",\n",
    ")"
   ],
   "outputs": []
  },
  {
   "cell_type": "code",
   "execution_count": 15,
   "metadata": {
    "ExecuteTime": {
     "end_time": "2023-06-04T12:04:17.538191Z",
     "start_time": "2023-06-04T12:04:15.711684Z"
    },
    "collapsed": false
   },
   "source": [
    "request.filter_by_rank((51.05089, 13.73832), 5).df"
   ],
   "outputs": []
  },
  {
   "cell_type": "code",
   "execution_count": 16,
   "metadata": {
    "ExecuteTime": {
     "end_time": "2023-06-04T12:04:22.093346Z",
     "start_time": "2023-06-04T12:04:22.035888Z"
    },
    "collapsed": false
   },
   "source": [
    "request.filter_by_distance((51.05089, 13.73832), 20).df"
   ],
   "outputs": []
  },
  {
   "cell_type": "code",
   "execution_count": 17,
   "metadata": {
    "ExecuteTime": {
     "end_time": "2023-06-04T12:04:22.919921Z",
     "start_time": "2023-06-04T12:04:22.905642Z"
    },
    "collapsed": false
   },
   "source": [
    "request.filter_by_station_id(\"1048\").df"
   ],
   "outputs": []
  },
  {
   "cell_type": "code",
   "execution_count": 18,
   "metadata": {
    "ExecuteTime": {
     "end_time": "2023-06-04T12:04:23.489380Z",
     "start_time": "2023-06-04T12:04:23.461181Z"
    },
    "collapsed": false
   },
   "source": [
    "request.filter_by_name(\"Dresden Klo\", threshold=70).df"
   ],
   "outputs": []
  },
  {
   "cell_type": "code",
   "execution_count": 19,
   "metadata": {
    "ExecuteTime": {
     "end_time": "2023-06-04T12:04:25.867321Z",
     "start_time": "2023-06-04T12:04:24.003871Z"
    },
    "collapsed": false
   },
   "source": [
    "request.filter_by_sql(\"SELECT * FROM df WHERE name LIKE 'Dresden%' AND ABS(height - 200) < 30\").df"
   ],
   "outputs": []
  },
  {
   "cell_type": "code",
   "execution_count": 20,
   "metadata": {
    "ExecuteTime": {
     "end_time": "2023-06-04T12:04:25.888929Z",
     "start_time": "2023-06-04T12:04:25.866628Z"
    },
    "collapsed": false
   },
   "source": [
    "request.filter_by_bbox(left=13.74, bottom=51.126, right=13.755, top=51.13).df"
   ],
   "outputs": []
  },
  {
   "cell_type": "markdown",
   "metadata": {
    "collapsed": false
   },
   "source": [
    "## Summarize values\n",
    "Fill up values from nearby stations"
   ]
  },
  {
   "cell_type": "code",
   "execution_count": 21,
   "metadata": {
    "ExecuteTime": {
     "end_time": "2023-06-04T12:04:30.796640Z",
     "start_time": "2023-06-04T12:04:29.009068Z"
    },
    "collapsed": false
   },
   "source": [
    "request.summarize((51.05089, 13.73832)).df"
   ],
   "outputs": []
  },
  {
   "cell_type": "markdown",
   "metadata": {
    "collapsed": false
   },
   "source": [
    "## Interpolate values"
   ]
  },
  {
   "cell_type": "code",
   "execution_count": 22,
   "metadata": {
    "ExecuteTime": {
     "end_time": "2023-06-04T12:04:39.633088Z",
     "start_time": "2023-06-04T12:04:38.369895Z"
    },
    "collapsed": false
   },
   "source": [
    "request.interpolate((51.05089, 13.73832)).df"
   ],
   "outputs": []
  }
 ],
 "metadata": {
  "kernel_info": {
   "name": "python3"
  },
  "kernelspec": {
   "display_name": "Python 3",
   "language": "python",
   "name": "python3"
  },
  "language_info": {
   "codemirror_mode": {
    "name": "ipython",
    "version": 3
   },
   "file_extension": ".py",
   "mimetype": "text/x-python",
   "name": "python",
   "nbconvert_exporter": "python",
   "pygments_lexer": "ipython3",
   "version": "3.11.6"
  },
  "nteract": {
   "version": "0.15.0"
  }
 },
 "nbformat": 4,
 "nbformat_minor": 4
}
