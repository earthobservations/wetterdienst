{
 "cells": [
  {
   "cell_type": "markdown",
   "metadata": {
    "collapsed": false,
    "pycharm": {
     "name": "#%% md\n"
    }
   },
   "source": [
    "# wetterdienst - A simple example\n",
    "\n",
    "pip install wetterdienst"
   ]
  },
  {
   "cell_type": "markdown",
   "metadata": {},
   "source": [
    "## Import modules necessary for general functioning"
   ]
  },
  {
   "cell_type": "code",
   "execution_count": 1,
   "metadata": {
    "collapsed": false,
    "inputHidden": false,
    "outputHidden": false
   },
   "outputs": [
    {
     "ename": "ImportError",
     "evalue": "cannot import name 'DWDParameterSet' from partially initialized module 'wetterdienst' (most likely due to a circular import) (D:\\Coding\\git\\wetterdienst\\wetterdienst\\__init__.py)",
     "output_type": "error",
     "traceback": [
      "\u001B[1;31m---------------------------------------------------------------------------\u001B[0m",
      "\u001B[1;31mImportError\u001B[0m                               Traceback (most recent call last)",
      "\u001B[1;32m<ipython-input-1-1c093cfe7aaa>\u001B[0m in \u001B[0;36m<module>\u001B[1;34m\u001B[0m\n\u001B[0;32m      2\u001B[0m \u001B[0mwarnings\u001B[0m\u001B[1;33m.\u001B[0m\u001B[0mfilterwarnings\u001B[0m\u001B[1;33m(\u001B[0m\u001B[1;34m\"ignore\"\u001B[0m\u001B[1;33m)\u001B[0m\u001B[1;33m\u001B[0m\u001B[1;33m\u001B[0m\u001B[0m\n\u001B[0;32m      3\u001B[0m \u001B[1;33m\u001B[0m\u001B[0m\n\u001B[1;32m----> 4\u001B[1;33m \u001B[1;32mfrom\u001B[0m \u001B[0mwetterdienst\u001B[0m\u001B[1;33m.\u001B[0m\u001B[0mdwd\u001B[0m\u001B[1;33m.\u001B[0m\u001B[0mobservations\u001B[0m \u001B[1;32mimport\u001B[0m \u001B[0mDWDObservationMetadata\u001B[0m\u001B[1;33m,\u001B[0m \u001B[0mDWDObservationSites\u001B[0m\u001B[1;33m,\u001B[0m\u001B[0;31m \u001B[0m\u001B[0;31m\\\u001B[0m\u001B[1;33m\u001B[0m\u001B[1;33m\u001B[0m\u001B[0m\n\u001B[0m\u001B[0;32m      5\u001B[0m     \u001B[0mDWDObservationData\u001B[0m\u001B[1;33m,\u001B[0m \u001B[0mDWDObservationPeriodType\u001B[0m\u001B[1;33m,\u001B[0m \u001B[0mDWDObservationTimeResolution\u001B[0m\u001B[1;33m,\u001B[0m\u001B[0;31m \u001B[0m\u001B[0;31m\\\u001B[0m\u001B[1;33m\u001B[0m\u001B[1;33m\u001B[0m\u001B[0m\n\u001B[0;32m      6\u001B[0m     \u001B[0mDWDParameterSet\u001B[0m\u001B[1;33m\u001B[0m\u001B[1;33m\u001B[0m\u001B[0m\n",
      "\u001B[1;32mD:\\Coding\\git\\wetterdienst\\wetterdienst\\__init__.py\u001B[0m in \u001B[0;36m<module>\u001B[1;34m\u001B[0m\n\u001B[0;32m      2\u001B[0m \u001B[0m__appname__\u001B[0m \u001B[1;33m=\u001B[0m \u001B[1;34m\"wetterdienst\"\u001B[0m\u001B[1;33m\u001B[0m\u001B[1;33m\u001B[0m\u001B[0m\n\u001B[0;32m      3\u001B[0m \u001B[1;33m\u001B[0m\u001B[0m\n\u001B[1;32m----> 4\u001B[1;33m \u001B[1;32mfrom\u001B[0m \u001B[0mwetterdienst\u001B[0m \u001B[1;32mimport\u001B[0m \u001B[0mdwd\u001B[0m\u001B[1;33m\u001B[0m\u001B[1;33m\u001B[0m\u001B[0m\n\u001B[0m\u001B[0;32m      5\u001B[0m \u001B[1;33m\u001B[0m\u001B[0m\n\u001B[0;32m      6\u001B[0m \u001B[1;31m# Single-sourcing the package version\u001B[0m\u001B[1;33m\u001B[0m\u001B[1;33m\u001B[0m\u001B[1;33m\u001B[0m\u001B[0m\n",
      "\u001B[1;32mD:\\Coding\\git\\wetterdienst\\wetterdienst\\dwd\\__init__.py\u001B[0m in \u001B[0;36m<module>\u001B[1;34m\u001B[0m\n\u001B[0;32m      1\u001B[0m \u001B[1;31m# Load Pandas DataFrame extension.\u001B[0m\u001B[1;33m\u001B[0m\u001B[1;33m\u001B[0m\u001B[1;33m\u001B[0m\u001B[0m\n\u001B[1;32m----> 2\u001B[1;33m \u001B[1;32mimport\u001B[0m \u001B[0mwetterdienst\u001B[0m\u001B[1;33m.\u001B[0m\u001B[0mdwd\u001B[0m\u001B[1;33m.\u001B[0m\u001B[0mpandas\u001B[0m  \u001B[1;31m# noqa:F401\u001B[0m\u001B[1;33m\u001B[0m\u001B[1;33m\u001B[0m\u001B[0m\n\u001B[0m\u001B[0;32m      3\u001B[0m \u001B[1;33m\u001B[0m\u001B[0m\n\u001B[0;32m      4\u001B[0m \u001B[1;32mfrom\u001B[0m \u001B[0mwetterdienst\u001B[0m\u001B[1;33m.\u001B[0m\u001B[0mdwd\u001B[0m \u001B[1;32mimport\u001B[0m \u001B[0mobservations\u001B[0m\u001B[1;33m,\u001B[0m \u001B[0mforecasts\u001B[0m\u001B[1;33m,\u001B[0m \u001B[0mradar\u001B[0m\u001B[1;33m\u001B[0m\u001B[1;33m\u001B[0m\u001B[0m\n",
      "\u001B[1;32mD:\\Coding\\git\\wetterdienst\\wetterdienst\\dwd\\pandas.py\u001B[0m in \u001B[0;36m<module>\u001B[1;34m\u001B[0m\n\u001B[0;32m      5\u001B[0m \u001B[1;32mimport\u001B[0m \u001B[0mpandas\u001B[0m \u001B[1;32mas\u001B[0m \u001B[0mpd\u001B[0m\u001B[1;33m\u001B[0m\u001B[1;33m\u001B[0m\u001B[0m\n\u001B[0;32m      6\u001B[0m \u001B[1;33m\u001B[0m\u001B[0m\n\u001B[1;32m----> 7\u001B[1;33m \u001B[1;32mfrom\u001B[0m \u001B[0mwetterdienst\u001B[0m\u001B[1;33m.\u001B[0m\u001B[0mdwd\u001B[0m\u001B[1;33m.\u001B[0m\u001B[0mobservations\u001B[0m\u001B[1;33m.\u001B[0m\u001B[0mmetadata\u001B[0m \u001B[1;32mimport\u001B[0m \u001B[0mDWDObservationTimeResolution\u001B[0m\u001B[1;33m\u001B[0m\u001B[1;33m\u001B[0m\u001B[0m\n\u001B[0m\u001B[0;32m      8\u001B[0m \u001B[1;32mfrom\u001B[0m \u001B[0mwetterdienst\u001B[0m\u001B[1;33m.\u001B[0m\u001B[0mdwd\u001B[0m\u001B[1;33m.\u001B[0m\u001B[0mmetadata\u001B[0m\u001B[1;33m.\u001B[0m\u001B[0mcolumn_names\u001B[0m \u001B[1;32mimport\u001B[0m \u001B[0mDWDMetaColumns\u001B[0m\u001B[1;33m\u001B[0m\u001B[1;33m\u001B[0m\u001B[0m\n\u001B[0;32m      9\u001B[0m \u001B[1;32mfrom\u001B[0m \u001B[0mwetterdienst\u001B[0m\u001B[1;33m.\u001B[0m\u001B[0mdwd\u001B[0m\u001B[1;33m.\u001B[0m\u001B[0mutil\u001B[0m \u001B[1;32mimport\u001B[0m \u001B[0mparse_datetime\u001B[0m\u001B[1;33m,\u001B[0m \u001B[0mmktimerange\u001B[0m\u001B[1;33m\u001B[0m\u001B[1;33m\u001B[0m\u001B[0m\n",
      "\u001B[1;32mD:\\Coding\\git\\wetterdienst\\wetterdienst\\dwd\\observations\\__init__.py\u001B[0m in \u001B[0;36m<module>\u001B[1;34m\u001B[0m\n\u001B[1;32m----> 1\u001B[1;33m \u001B[1;32mfrom\u001B[0m \u001B[0mwetterdienst\u001B[0m\u001B[1;33m.\u001B[0m\u001B[0mdwd\u001B[0m\u001B[1;33m.\u001B[0m\u001B[0mobservations\u001B[0m\u001B[1;33m.\u001B[0m\u001B[0mapi\u001B[0m \u001B[1;32mimport\u001B[0m \u001B[0mDWDObservationMetadata\u001B[0m\u001B[1;33m,\u001B[0m\u001B[0;31m \u001B[0m\u001B[0;31m\\\u001B[0m\u001B[1;33m\u001B[0m\u001B[1;33m\u001B[0m\u001B[0m\n\u001B[0m\u001B[0;32m      2\u001B[0m     \u001B[0mDWDObservationSites\u001B[0m\u001B[1;33m,\u001B[0m \u001B[0mDWDObservationData\u001B[0m\u001B[1;33m\u001B[0m\u001B[1;33m\u001B[0m\u001B[0m\n\u001B[0;32m      3\u001B[0m \u001B[1;32mfrom\u001B[0m \u001B[0mwetterdienst\u001B[0m\u001B[1;33m.\u001B[0m\u001B[0mdwd\u001B[0m\u001B[1;33m.\u001B[0m\u001B[0mobservations\u001B[0m\u001B[1;33m.\u001B[0m\u001B[0mmetadata\u001B[0m \u001B[1;32mimport\u001B[0m \u001B[0mDWDObservationParameter\u001B[0m\u001B[1;33m,\u001B[0m\u001B[0;31m \u001B[0m\u001B[0;31m\\\u001B[0m\u001B[1;33m\u001B[0m\u001B[1;33m\u001B[0m\u001B[0m\n\u001B[0;32m      4\u001B[0m     \u001B[0mDWDParameterSet\u001B[0m\u001B[1;33m,\u001B[0m \u001B[0mDWDObservationPeriodType\u001B[0m\u001B[1;33m,\u001B[0m \u001B[0mDWDObservationTimeResolution\u001B[0m\u001B[1;33m\u001B[0m\u001B[1;33m\u001B[0m\u001B[0m\n",
      "\u001B[1;32mD:\\Coding\\git\\wetterdienst\\wetterdienst\\dwd\\observations\\api.py\u001B[0m in \u001B[0;36m<module>\u001B[1;34m\u001B[0m\n\u001B[0;32m      7\u001B[0m \u001B[1;33m\u001B[0m\u001B[0m\n\u001B[0;32m      8\u001B[0m \u001B[1;32mfrom\u001B[0m \u001B[0mwetterdienst\u001B[0m\u001B[1;33m.\u001B[0m\u001B[0mcore\u001B[0m\u001B[1;33m.\u001B[0m\u001B[0mdata\u001B[0m \u001B[1;32mimport\u001B[0m \u001B[0mWDDataCore\u001B[0m\u001B[1;33m\u001B[0m\u001B[1;33m\u001B[0m\u001B[0m\n\u001B[1;32m----> 9\u001B[1;33m \u001B[1;32mfrom\u001B[0m \u001B[0mwetterdienst\u001B[0m\u001B[1;33m.\u001B[0m\u001B[0mcore\u001B[0m\u001B[1;33m.\u001B[0m\u001B[0msites\u001B[0m \u001B[1;32mimport\u001B[0m \u001B[0mWDSitesCore\u001B[0m\u001B[1;33m\u001B[0m\u001B[1;33m\u001B[0m\u001B[0m\n\u001B[0m\u001B[0;32m     10\u001B[0m \u001B[1;32mfrom\u001B[0m \u001B[0mwetterdienst\u001B[0m\u001B[1;33m.\u001B[0m\u001B[0mdwd\u001B[0m\u001B[1;33m.\u001B[0m\u001B[0mindex\u001B[0m \u001B[1;32mimport\u001B[0m \u001B[0m_create_file_index_for_dwd_server\u001B[0m\u001B[1;33m\u001B[0m\u001B[1;33m\u001B[0m\u001B[0m\n\u001B[0;32m     11\u001B[0m \u001B[1;32mfrom\u001B[0m \u001B[0mwetterdienst\u001B[0m\u001B[1;33m.\u001B[0m\u001B[0mdwd\u001B[0m\u001B[1;33m.\u001B[0m\u001B[0mmetadata\u001B[0m\u001B[1;33m.\u001B[0m\u001B[0mcolumn_map\u001B[0m \u001B[1;32mimport\u001B[0m \u001B[0mcreate_humanized_column_names_mapping\u001B[0m\u001B[1;33m\u001B[0m\u001B[1;33m\u001B[0m\u001B[0m\n",
      "\u001B[1;32mD:\\Coding\\git\\wetterdienst\\wetterdienst\\core\\sites.py\u001B[0m in \u001B[0;36m<module>\u001B[1;34m\u001B[0m\n\u001B[0;32m      8\u001B[0m \u001B[1;32mfrom\u001B[0m \u001B[0mpandas\u001B[0m \u001B[1;32mimport\u001B[0m \u001B[0mTimestamp\u001B[0m\u001B[1;33m\u001B[0m\u001B[1;33m\u001B[0m\u001B[0m\n\u001B[0;32m      9\u001B[0m \u001B[1;33m\u001B[0m\u001B[0m\n\u001B[1;32m---> 10\u001B[1;33m \u001B[1;32mfrom\u001B[0m \u001B[0mwetterdienst\u001B[0m \u001B[1;32mimport\u001B[0m \u001B[0mDWDParameterSet\u001B[0m\u001B[1;33m,\u001B[0m \u001B[0mTimeResolution\u001B[0m\u001B[1;33m,\u001B[0m \u001B[0mPeriodType\u001B[0m\u001B[1;33m\u001B[0m\u001B[1;33m\u001B[0m\u001B[0m\n\u001B[0m\u001B[0;32m     11\u001B[0m \u001B[1;32mfrom\u001B[0m \u001B[0mwetterdienst\u001B[0m\u001B[1;33m.\u001B[0m\u001B[0mdwd\u001B[0m\u001B[1;33m.\u001B[0m\u001B[0mmetadata\u001B[0m\u001B[1;33m.\u001B[0m\u001B[0mcolumn_names\u001B[0m \u001B[1;32mimport\u001B[0m \u001B[0mDWDMetaColumns\u001B[0m\u001B[1;33m\u001B[0m\u001B[1;33m\u001B[0m\u001B[0m\n\u001B[0;32m     12\u001B[0m \u001B[1;32mfrom\u001B[0m \u001B[0mwetterdienst\u001B[0m\u001B[1;33m.\u001B[0m\u001B[0mdwd\u001B[0m\u001B[1;33m.\u001B[0m\u001B[0mutil\u001B[0m \u001B[1;32mimport\u001B[0m \u001B[0mparse_enumeration_from_template\u001B[0m\u001B[1;33m,\u001B[0m \u001B[0mparse_datetime\u001B[0m\u001B[1;33m\u001B[0m\u001B[1;33m\u001B[0m\u001B[0m\n",
      "\u001B[1;31mImportError\u001B[0m: cannot import name 'DWDParameterSet' from partially initialized module 'wetterdienst' (most likely due to a circular import) (D:\\Coding\\git\\wetterdienst\\wetterdienst\\__init__.py)"
     ]
    }
   ],
   "source": [
    "import warnings\n",
    "warnings.filterwarnings(\"ignore\")\n",
    "\n",
    "from wetterdienst.dwd.observations import DWDObservationMetadata, DWDObservationSites, \\\n",
    "    DWDObservationData, DWDObservationPeriodType, DWDObservationTimeResolution, \\\n",
    "    DWDParameterSet\n",
    "\n",
    "%matplotlib inline\n",
    "import matplotlib as mpl\n",
    "import matplotlib.pyplot as plt\n",
    "from matplotlib import cm"
   ]
  },
  {
   "cell_type": "markdown",
   "source": [
    "Which parameters are available?"
   ],
   "metadata": {
    "collapsed": false
   }
  },
  {
   "cell_type": "code",
   "execution_count": null,
   "outputs": [],
   "source": [
    "# all\n",
    "print(\"All available combinations\")\n",
    "print(\n",
    "    DWDObservationMetadata().discover_parameters()\n",
    ")\n",
    "# selection\n",
    "print(\"Selection of daily historical data\")\n",
    "print(\n",
    "    DWDObservationMetadata(\n",
    "        time_resolution=DWDObservationTimeResolution.DAILY,\n",
    "        period_type=DWDObservationPeriodType.HISTORICAL\n",
    "    ).discover_parameters()\n",
    ")"
   ],
   "metadata": {
    "collapsed": false,
    "pycharm": {
     "name": "#%%\n"
    }
   }
  },
  {
   "cell_type": "markdown",
   "metadata": {},
   "source": [
    "## 1. First check the metadata to inform yourself of available stations\n",
    "(here we pick historical daily precipitation - hdp)"
   ]
  },
  {
   "cell_type": "code",
   "execution_count": null,
   "metadata": {
    "collapsed": false,
    "inputHidden": false,
    "outputHidden": false
   },
   "outputs": [],
   "source": [
    "sites_hdp = DWDObservationSites(\n",
    "    DWDParameterSet.PRECIPITATION_MORE,\n",
    "    DWDObservationTimeResolution.DAILY,\n",
    "    DWDObservationPeriodType.HISTORICAL\n",
    ")\n",
    "print(\"Number of stations with available data: \", sites_hdp.all().sum())\n",
    "print(\"Some of the stations:\")\n",
    "sites_hdp.all().head()"
   ]
  },
  {
   "cell_type": "markdown",
   "metadata": {},
   "source": [
    "The metadata includes an id, the range of the measurements, the position\n",
    "(including height) as well as place and state of it and if it has a file. With the\n",
    "following plot we want to show a map of those stations:"
   ]
  },
  {
   "cell_type": "code",
   "execution_count": null,
   "metadata": {
    "collapsed": false,
    "inputHidden": false,
    "outputHidden": false
   },
   "outputs": [],
   "source": [
    "cmap = cm.get_cmap('viridis')\n",
    "bounds = sites_hdp.all().STATION_HEIGHT.quantile([0, 0.25, 0.5, 0.75, 1]).values\n",
    "norm = mpl.colors.BoundaryNorm(bounds, cmap.N)\n",
    "\n",
    "fig, ax = plt.subplots(figsize=(10, 10))\n",
    "plot = sites_hdp.all().plot.scatter(\n",
    "    x=\"LON\", y=\"LAT\", c=\"STATION_HEIGHT\", cmap=cmap, norm=norm, ax=ax)\n",
    "plot.set_title(\"Map of daily precipitation stations in Germany\\n\"\n",
    "               \"Color refers to height of station\")\n",
    "plt.show()"
   ]
  },
  {
   "cell_type": "markdown",
   "metadata": {},
   "source": [
    "## 2. The usual way of retrieving data"
   ]
  },
  {
   "cell_type": "markdown",
   "metadata": {},
   "source": [
    "Usually there are three steps to follow:\n",
    "- select indexed files based on\n",
    "    - its station_id\n",
    "        - \"1048\" for Dresden, Germany\n",
    "    - its parameter\n",
    "        - \"kl\" for climate\n",
    "    - its time_resolution\n",
    "        - \"daily\" for daily data\n",
    "    - its period_type\n",
    "        - \"historical\" for data up to the end of the last year\n",
    "- download the resulting list of files\n",
    "- parse it into pandas.DataFrames\n",
    "\n",
    "We have summarized those steps into one:\n",
    "- collect_dwd_data\n",
    "\n",
    "Let's try it out for the above selection:"
   ]
  },
  {
   "cell_type": "code",
   "execution_count": null,
   "metadata": {
    "collapsed": false,
    "inputHidden": false,
    "outputHidden": false
   },
   "outputs": [],
   "source": [
    "print(\"Receiving historical daily climate data for Dresden-Klotzsche (1048)\")\n",
    "station_data = DWDObservationData(\n",
    "    [1048],\n",
    "    [DWDParameterSet.CLIMATE_SUMMARY],\n",
    "    DWDObservationTimeResolution.DAILY,\n",
    "    [DWDObservationPeriodType.HISTORICAL],\n",
    "    tidy_data=False\n",
    ").collect_safe()\n",
    "\n",
    "station_data"
   ]
  },
  {
   "cell_type": "markdown",
   "metadata": {},
   "source": [
    "See that DATE is already parsed, so we can easily get some nice graphs with matplotlib,\n",
    "which we will do in the next part."
   ]
  },
  {
   "cell_type": "markdown",
   "metadata": {},
   "source": [
    "## 3. Let's create some plots"
   ]
  },
  {
   "cell_type": "markdown",
   "metadata": {},
   "source": [
    "First to handle the data easier, we want it to be transformed from tabular to column data,\n",
    "which means instead of having the data in several columns with an additional date column,\n",
    "we want columns, where a set of all columns defines the date of measured data, element\n",
    "and the exact value. We will therefore use the tidy_data option."
   ]
  },
  {
   "cell_type": "code",
   "execution_count": null,
   "metadata": {
    "collapsed": false,
    "inputHidden": false,
    "outputHidden": false
   },
   "outputs": [],
   "source": [
    "print(\"Receiving historical daily climate data for Dresden-Klotzsche (1048), this time tidied.\")\n",
    "station_data = DWDObservationData(\n",
    "    [1048],\n",
    "    [DWDParameterSet.CLIMATE_SUMMARY],\n",
    "    DWDObservationTimeResolution.DAILY,\n",
    "    [DWDObservationPeriodType.HISTORICAL],\n",
    "    tidy_data=True\n",
    ").collect_safe()\n",
    "\n",
    "station_data.head()"
   ]
  },
  {
   "cell_type": "markdown",
   "metadata": {},
   "source": [
    "We can create a time series/histogram of some elements to compare the distribution of\n",
    "the values, here for example precipitation and mean temperature:"
   ]
  },
  {
   "cell_type": "code",
   "execution_count": null,
   "metadata": {
    "collapsed": false,
    "inputHidden": false,
    "outputHidden": false
   },
   "outputs": [],
   "source": [
    "elements_to_plot = [\"RSK\", \"TMK\"]\n",
    "station_data_filtered = station_data[\n",
    "    station_data[\"ELEMENT\"].isin(elements_to_plot)\n",
    "].sort_values([\"STATION_ID\", \"ELEMENT\", \"DATE\"])\n",
    "\n",
    "station_data_grouped = station_data_filtered.groupby(\"ELEMENT\")[[\"DATE\", \"VALUE\"]]"
   ]
  },
  {
   "cell_type": "code",
   "execution_count": null,
   "metadata": {
    "collapsed": false,
    "inputHidden": false,
    "outputHidden": false
   },
   "outputs": [],
   "source": [
    "cmap = plt.get_cmap('viridis')\n",
    "colors = (\"blue\", \"orange\")\n",
    "\n",
    "fig, axes = plt.subplots(len(elements_to_plot), len(elements_to_plot), figsize=(10, 10))\n",
    "\n",
    "for (k, v), (ax1, ax2), color in zip(station_data_grouped, axes.T, colors):\n",
    "    v.plot(x=\"DATE\", y=\"VALUE\", label=k, alpha=.75, ax=ax1, c=color)\n",
    "    v.plot(y=\"VALUE\", kind=\"hist\", label=k, alpha=.75, ax=ax2, color=color)\n",
    "    \n",
    "plt.tight_layout()\n",
    "plt.subplots_adjust(top=0.9)\n",
    "plt.suptitle(\"Precipitation/Mean temperature time series of Dresden, Germany\")\n",
    "\n",
    "plt.show()"
   ]
  },
  {
   "cell_type": "markdown",
   "metadata": {},
   "source": [
    "We can see here that the precipitation is completely left-skewed and not normal distributed, while the temperature is almost normaldistributed! Also the timeseries gives a glimpse on how much data is available! Sad notice here is the gap of WW2."
   ]
  },
  {
   "cell_type": "markdown",
   "metadata": {},
   "source": [
    "## 4. Create yearly values"
   ]
  },
  {
   "cell_type": "code",
   "execution_count": null,
   "metadata": {
    "collapsed": false,
    "inputHidden": false,
    "outputHidden": false
   },
   "outputs": [],
   "source": [
    "for parameter, group in station_data_filtered.groupby(\"ELEMENT\")[[\"DATE\", \"VALUE\"]]:\n",
    "    if parameter == \"RSK\":\n",
    "        print(group.groupby(group[\"DATE\"].dt.year)[\"VALUE\"].sum())\n",
    "    else:\n",
    "        print(group.groupby(group[\"DATE\"].dt.year)[\"VALUE\"].mean())"
   ]
  },
  {
   "cell_type": "markdown",
   "metadata": {
    "collapsed": false,
    "pycharm": {
     "name": "#%% md\n"
    }
   },
   "source": [
    "## 5. Find a station\n",
    "\n",
    "We may want to find a station near to a certain area. Therefor simply call get_nearest_station"
   ]
  },
  {
   "cell_type": "code",
   "execution_count": null,
   "metadata": {
    "collapsed": false,
    "pycharm": {
     "name": "#%%\n"
    }
   },
   "outputs": [],
   "source": [
    "DWDObservationSites(\n",
    "    DWDParameterSet.CLIMATE_SUMMARY,\n",
    "    DWDObservationTimeResolution.DAILY,\n",
    "    DWDObservationPeriodType.HISTORICAL,\n",
    "    \"2000-01-01\",\n",
    "    \"2010-01-01\"\n",
    ").nearby_number(\n",
    "    51.05089,\n",
    "    13.73832,\n",
    "    5\n",
    ")"
   ]
  }
 ],
 "metadata": {
  "kernel_info": {
   "name": "python3"
  },
  "kernelspec": {
   "display_name": "Python 3",
   "language": "python",
   "name": "python3"
  },
  "language_info": {
   "codemirror_mode": {
    "name": "ipython",
    "version": 3
   },
   "file_extension": ".py",
   "mimetype": "text/x-python",
   "name": "python",
   "nbconvert_exporter": "python",
   "pygments_lexer": "ipython3",
   "version": "3.8.5"
  },
  "nteract": {
   "version": "0.15.0"
  }
 },
 "nbformat": 4,
 "nbformat_minor": 4
}