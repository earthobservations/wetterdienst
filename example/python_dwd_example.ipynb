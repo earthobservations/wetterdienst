{
  "cells": [
    {
      "cell_type": "code",
      "source": [
        "# pip install git+https://www.github.com/gezzze/pydwd@testing"
      ],
      "outputs": [],
      "execution_count": 1,
      "metadata": {
        "collapsed": false,
        "outputHidden": false,
        "inputHidden": false
      }
    },
    {
      "cell_type": "markdown",
      "source": [
        "# Remove old files\n",
        "- dwd_data"
      ],
      "metadata": {}
    },
    {
      "cell_type": "code",
      "source": [
        "import pathlib\n",
        "\n",
        "# Function to remove files and folders \n",
        "def delete_folder(pth) :\n",
        "    for sub in pth.iterdir() :\n",
        "        if sub.is_dir():\n",
        "            delete_folder(sub)\n",
        "        else :\n",
        "            sub.unlink()\n",
        "    pth.rmdir()\n",
        "    \n",
        "delete_folder(pathlib.Path('dwd_data'))"
      ],
      "outputs": [],
      "execution_count": 1,
      "metadata": {
        "collapsed": false,
        "outputHidden": false,
        "inputHidden": false
      }
    },
    {
      "cell_type": "markdown",
      "source": [
        "# Import modules necessary for general functioning\n"
      ],
      "metadata": {}
    },
    {
      "cell_type": "code",
      "source": [
        "# Modules used\n",
        "try:\n",
        "    import python_dwd\n",
        "except:\n",
        "    import sys\n",
        "    sys.path.append(\"..\")\n",
        "\n",
        "    import python_dwd\n",
        "\n",
        "import pandas as pd\n",
        "import numpy as np\n",
        "%matplotlib inline\n",
        "import matplotlib as mpl\n",
        "import matplotlib.pyplot as plt\n",
        "from python_dwd.enumerations.period_type_enumeration import PeriodType\n",
        "from python_dwd.enumerations.time_resolution_enumeration import TimeResolution\n",
        "from python_dwd.enumerations.parameter_enumeration import Parameter"
      ],
      "outputs": [],
      "execution_count": 2,
      "metadata": {
        "collapsed": false,
        "outputHidden": false,
        "inputHidden": false
      }
    },
    {
      "cell_type": "markdown",
      "source": [
        "## 1. First check of a metadatafile\n",
        "- for daily climate historical file\n",
        "- metadata is printed with its shape/size and the number of available stations"
      ],
      "metadata": {}
    },
    {
      "cell_type": "code",
      "source": [
        "metadata_precip_daily = python_dwd.metadata_for_dwd_data(parameter=Parameter.PRECIPITATION_MORE,\n",
        "                                                         time_resolution=TimeResolution.DAILY,\n",
        "                                                         period_type=PeriodType.HISTORICAL)\n",
        "print(\"Size of dataframe: \", metadata_precip_daily.shape)\n",
        "print(\"Number of available stations: \", metadata_precip_daily[metadata_precip_daily.HAS_FILE == True].shape[0])\n",
        "metadata_precip_daily.head()"
      ],
      "outputs": [
        {
          "output_type": "stream",
          "name": "stdout",
          "text": [
            "Size of dataframe:  (5945, 9)\n",
            "Number of available stations:  5930\n"
          ]
        },
        {
          "output_type": "execute_result",
          "execution_count": 3,
          "data": {
            "text/plain": [
              "   STATION_ID  FROM_DATE    TO_DATE  STATIONHEIGHT      LAT      LON  \\\n",
              "0           1 1912-01-01 1986-06-30          478.0  47.8413   8.8493   \n",
              "1           2 1951-01-01 2006-12-31          138.0  50.8066   6.0996   \n",
              "2           3 1891-01-01 2011-03-31          202.0  50.7827   6.0941   \n",
              "3           4 1951-01-01 1979-10-31          243.0  50.7683   6.1207   \n",
              "4           6 1982-11-01 2019-10-01          455.0  48.8361  10.0598   \n",
              "\n",
              "           STATIONNAME                STATE  HAS_FILE  \n",
              "0                 Aach    Baden-Württemberg      True  \n",
              "1  Aachen (Kläranlage)  Nordrhein-Westfalen      True  \n",
              "2               Aachen  Nordrhein-Westfalen      True  \n",
              "3         Aachen-Brand  Nordrhein-Westfalen      True  \n",
              "4   Aalen-Unterrombach    Baden-Württemberg      True  "
            ],
            "text/html": [
              "<div>\n",
              "<style scoped>\n",
              "    .dataframe tbody tr th:only-of-type {\n",
              "        vertical-align: middle;\n",
              "    }\n",
              "\n",
              "    .dataframe tbody tr th {\n",
              "        vertical-align: top;\n",
              "    }\n",
              "\n",
              "    .dataframe thead th {\n",
              "        text-align: right;\n",
              "    }\n",
              "</style>\n",
              "<table border=\"1\" class=\"dataframe\">\n",
              "  <thead>\n",
              "    <tr style=\"text-align: right;\">\n",
              "      <th></th>\n",
              "      <th>STATION_ID</th>\n",
              "      <th>FROM_DATE</th>\n",
              "      <th>TO_DATE</th>\n",
              "      <th>STATIONHEIGHT</th>\n",
              "      <th>LAT</th>\n",
              "      <th>LON</th>\n",
              "      <th>STATIONNAME</th>\n",
              "      <th>STATE</th>\n",
              "      <th>HAS_FILE</th>\n",
              "    </tr>\n",
              "  </thead>\n",
              "  <tbody>\n",
              "    <tr>\n",
              "      <th>0</th>\n",
              "      <td>1</td>\n",
              "      <td>1912-01-01</td>\n",
              "      <td>1986-06-30</td>\n",
              "      <td>478.0</td>\n",
              "      <td>47.8413</td>\n",
              "      <td>8.8493</td>\n",
              "      <td>Aach</td>\n",
              "      <td>Baden-Württemberg</td>\n",
              "      <td>True</td>\n",
              "    </tr>\n",
              "    <tr>\n",
              "      <th>1</th>\n",
              "      <td>2</td>\n",
              "      <td>1951-01-01</td>\n",
              "      <td>2006-12-31</td>\n",
              "      <td>138.0</td>\n",
              "      <td>50.8066</td>\n",
              "      <td>6.0996</td>\n",
              "      <td>Aachen (Kläranlage)</td>\n",
              "      <td>Nordrhein-Westfalen</td>\n",
              "      <td>True</td>\n",
              "    </tr>\n",
              "    <tr>\n",
              "      <th>2</th>\n",
              "      <td>3</td>\n",
              "      <td>1891-01-01</td>\n",
              "      <td>2011-03-31</td>\n",
              "      <td>202.0</td>\n",
              "      <td>50.7827</td>\n",
              "      <td>6.0941</td>\n",
              "      <td>Aachen</td>\n",
              "      <td>Nordrhein-Westfalen</td>\n",
              "      <td>True</td>\n",
              "    </tr>\n",
              "    <tr>\n",
              "      <th>3</th>\n",
              "      <td>4</td>\n",
              "      <td>1951-01-01</td>\n",
              "      <td>1979-10-31</td>\n",
              "      <td>243.0</td>\n",
              "      <td>50.7683</td>\n",
              "      <td>6.1207</td>\n",
              "      <td>Aachen-Brand</td>\n",
              "      <td>Nordrhein-Westfalen</td>\n",
              "      <td>True</td>\n",
              "    </tr>\n",
              "    <tr>\n",
              "      <th>4</th>\n",
              "      <td>6</td>\n",
              "      <td>1982-11-01</td>\n",
              "      <td>2019-10-01</td>\n",
              "      <td>455.0</td>\n",
              "      <td>48.8361</td>\n",
              "      <td>10.0598</td>\n",
              "      <td>Aalen-Unterrombach</td>\n",
              "      <td>Baden-Württemberg</td>\n",
              "      <td>True</td>\n",
              "    </tr>\n",
              "  </tbody>\n",
              "</table>\n",
              "</div>"
            ]
          },
          "metadata": {}
        }
      ],
      "execution_count": 3,
      "metadata": {
        "collapsed": false,
        "outputHidden": false,
        "inputHidden": false
      }
    },
    {
      "cell_type": "code",
      "source": [
        "metadata_precip_1min = python_dwd.metadata_for_dwd_data(parameter=Parameter.PRECIPITATION, \n",
        "                                                   time_resolution=TimeResolution.MINUTE_1, \n",
        "                                                   period_type=PeriodType.HISTORICAL)\n",
        "print(\"Size of dataframe: \", metadata_precip_1min.shape)\n",
        "print(\"Number of available stations: \", metadata_precip_1min[metadata_precip_1min.HAS_FILE == True].shape)\n",
        "metadata_precip_1min.head()"
      ],
      "outputs": [
        {
          "output_type": "stream",
          "name": "stderr",
          "text": [
            " 54%|█████▎    | 605/1130 [04:19<04:55,  1.77it/s]"
          ]
        }
      ],
      "execution_count": 4,
      "metadata": {
        "collapsed": false,
        "outputHidden": false,
        "inputHidden": false
      }
    },
    {
      "cell_type": "markdown",
      "source": [
        "The metadata includes an id, the range of the measurments, the position  (including height) as well as place and state of it and if it has a file. With the following plot we want to show a map of those stations:"
      ],
      "metadata": {}
    },
    {
      "cell_type": "code",
      "source": [
        "from matplotlib import cm\n",
        "cmap = cm.get_cmap('viridis')\n",
        "bounds = metadata_precip_daily.STATIONHEIGHT.quantile([0, 0.25, 0.5, 0.75, 1]).values\n",
        "norm = mpl.colors.BoundaryNorm(bounds, cmap.N)\n",
        "\n",
        "plot = metadata_precip_daily.plot.scatter(x=\"LON\", y=\"LAT\", c=\"STATIONHEIGHT\", cmap=cmap, norm=norm)\n",
        "plot.set_title(\"Map of daily precipitation stations in Germany\\nColor refers to height of station\")"
      ],
      "outputs": [
        {
          "output_type": "execute_result",
          "execution_count": 20,
          "data": {
            "text/plain": [
              "Text(0.5, 1.0, 'Map of daily precipitation stations in Germany\\nColor refers to height of station')"
            ]
          },
          "metadata": {}
        },
        {
          "output_type": "display_data",
          "data": {
            "text/plain": [
              "<Figure size 432x288 with 2 Axes>"
            ],
            "image/png": "[encoded data removed]"
          },
          "metadata": {
            "needs_background": "light"
          }
        }
      ],
      "execution_count": 20,
      "metadata": {
        "collapsed": false,
        "outputHidden": false,
        "inputHidden": false
      }
    },
    {
      "cell_type": "markdown",
      "source": [
        "## 2. The usual way of retrieving data"
      ],
      "metadata": {}
    },
    {
      "cell_type": "markdown",
      "source": [
        "We first select our station with select_dwd as chosen from the above metadata by:\n",
        "- it's id and\n",
        "    * 1048 for Dresden, Germany \n",
        "- the composition of parameters\n",
        "    * var=\"kl\" for climate\n",
        "    * res=\"daily\" for daily data\n",
        "    * per=\"historical\" for data of all time"
      ],
      "metadata": {}
    },
    {
      "cell_type": "code",
      "source": [
        "# Receive data for Dresden-Klotzsche (STATION_ID 1048)\n",
        "# Link\n",
        "remote_file_path = python_dwd.create_file_list_for_dwd_server(statid=[1048],\n",
        "                                                              parameter=Parameter.CLIMATE_SUMMARY,\n",
        "                                                              time_resolution=TimeResolution.DAILY,\n",
        "                                                              period_type=PeriodType.HISTORICAL) \n",
        "remote_file_path"
      ],
      "outputs": [
        {
          "output_type": "execute_result",
          "execution_count": 3,
          "data": {
            "text/plain": [
              "     FILEID  STATION_ID                                           FILENAME\n",
              "209     212        1048  daily/kl/historical/tageswerte_KL_01048_193401..."
            ],
            "text/html": [
              "<div>\n",
              "<style scoped>\n",
              "    .dataframe tbody tr th:only-of-type {\n",
              "        vertical-align: middle;\n",
              "    }\n",
              "\n",
              "    .dataframe tbody tr th {\n",
              "        vertical-align: top;\n",
              "    }\n",
              "\n",
              "    .dataframe thead th {\n",
              "        text-align: right;\n",
              "    }\n",
              "</style>\n",
              "<table border=\"1\" class=\"dataframe\">\n",
              "  <thead>\n",
              "    <tr style=\"text-align: right;\">\n",
              "      <th></th>\n",
              "      <th>FILEID</th>\n",
              "      <th>STATION_ID</th>\n",
              "      <th>FILENAME</th>\n",
              "    </tr>\n",
              "  </thead>\n",
              "  <tbody>\n",
              "    <tr>\n",
              "      <th>209</th>\n",
              "      <td>212</td>\n",
              "      <td>1048</td>\n",
              "      <td>daily/kl/historical/tageswerte_KL_01048_193401...</td>\n",
              "    </tr>\n",
              "  </tbody>\n",
              "</table>\n",
              "</div>"
            ]
          },
          "metadata": {}
        }
      ],
      "execution_count": 3,
      "metadata": {
        "collapsed": false,
        "outputHidden": false,
        "inputHidden": false
      }
    },
    {
      "cell_type": "markdown",
      "source": [
        "The function returns a link which leads to the server path where we can find the file. It is downloaded with download_dwd and the link from above:"
      ],
      "metadata": {}
    },
    {
      "cell_type": "code",
      "source": [
        "# Download\n",
        "station_download = python_dwd.download_dwd_data(remote_file_path)"
      ],
      "outputs": [],
      "execution_count": 4,
      "metadata": {
        "collapsed": false,
        "outputHidden": false,
        "inputHidden": false
      }
    },
    {
      "cell_type": "markdown",
      "source": [
        "The returned link now leads to the local file. Next we read it in with read_dwd et voila, the function presents us a DataFrame with first values."
      ],
      "metadata": {
        "collapsed": false
      }
    },
    {
      "cell_type": "code",
      "source": [
        "station_data = python_dwd.parse_dwd_data(station_download)\n",
        "station_data.head()"
      ],
      "outputs": [
        {
          "output_type": "execute_result",
          "execution_count": 5,
          "data": {
            "text/plain": [
              "   STATION_ID       DATE  QN_3  FX  FM  QN_4   RSK  RSKF  SDK  SHK_TAG   NM  \\\n",
              "0        1048 1934-01-01   NaN NaN NaN     1   0.2   8.0  NaN      0.0  8.0   \n",
              "1        1048 1934-01-02   NaN NaN NaN     1   0.1   7.0  NaN      0.0  8.0   \n",
              "2        1048 1934-01-03   NaN NaN NaN     1   0.0   0.0  NaN      0.0  8.0   \n",
              "3        1048 1934-01-04   NaN NaN NaN     1   0.0   1.0  NaN      0.0  8.0   \n",
              "4        1048 1934-01-05   NaN NaN NaN     1  10.1   8.0  NaN      0.0  5.3   \n",
              "\n",
              "   VPM      PM  TMK   UPM  TXK  TNK  TGK  EOR  \n",
              "0  6.4  1008.6  0.5  97.0  0.7  0.2  NaN  eor  \n",
              "1  5.9  1006.2 -0.1  90.0  0.9 -0.8  NaN  eor  \n",
              "2  5.2  1001.6 -0.7  85.0 -0.1 -1.0  NaN  eor  \n",
              "3  4.8  1001.4 -1.6  82.0 -0.3 -3.5  NaN  eor  \n",
              "4  6.3   996.0  0.9  92.0  2.8 -3.8  NaN  eor  "
            ],
            "text/html": [
              "<div>\n",
              "<style scoped>\n",
              "    .dataframe tbody tr th:only-of-type {\n",
              "        vertical-align: middle;\n",
              "    }\n",
              "\n",
              "    .dataframe tbody tr th {\n",
              "        vertical-align: top;\n",
              "    }\n",
              "\n",
              "    .dataframe thead th {\n",
              "        text-align: right;\n",
              "    }\n",
              "</style>\n",
              "<table border=\"1\" class=\"dataframe\">\n",
              "  <thead>\n",
              "    <tr style=\"text-align: right;\">\n",
              "      <th></th>\n",
              "      <th>STATION_ID</th>\n",
              "      <th>DATE</th>\n",
              "      <th>QN_3</th>\n",
              "      <th>FX</th>\n",
              "      <th>FM</th>\n",
              "      <th>QN_4</th>\n",
              "      <th>RSK</th>\n",
              "      <th>RSKF</th>\n",
              "      <th>SDK</th>\n",
              "      <th>SHK_TAG</th>\n",
              "      <th>NM</th>\n",
              "      <th>VPM</th>\n",
              "      <th>PM</th>\n",
              "      <th>TMK</th>\n",
              "      <th>UPM</th>\n",
              "      <th>TXK</th>\n",
              "      <th>TNK</th>\n",
              "      <th>TGK</th>\n",
              "      <th>EOR</th>\n",
              "    </tr>\n",
              "  </thead>\n",
              "  <tbody>\n",
              "    <tr>\n",
              "      <th>0</th>\n",
              "      <td>1048</td>\n",
              "      <td>1934-01-01</td>\n",
              "      <td>NaN</td>\n",
              "      <td>NaN</td>\n",
              "      <td>NaN</td>\n",
              "      <td>1</td>\n",
              "      <td>0.2</td>\n",
              "      <td>8.0</td>\n",
              "      <td>NaN</td>\n",
              "      <td>0.0</td>\n",
              "      <td>8.0</td>\n",
              "      <td>6.4</td>\n",
              "      <td>1008.6</td>\n",
              "      <td>0.5</td>\n",
              "      <td>97.0</td>\n",
              "      <td>0.7</td>\n",
              "      <td>0.2</td>\n",
              "      <td>NaN</td>\n",
              "      <td>eor</td>\n",
              "    </tr>\n",
              "    <tr>\n",
              "      <th>1</th>\n",
              "      <td>1048</td>\n",
              "      <td>1934-01-02</td>\n",
              "      <td>NaN</td>\n",
              "      <td>NaN</td>\n",
              "      <td>NaN</td>\n",
              "      <td>1</td>\n",
              "      <td>0.1</td>\n",
              "      <td>7.0</td>\n",
              "      <td>NaN</td>\n",
              "      <td>0.0</td>\n",
              "      <td>8.0</td>\n",
              "      <td>5.9</td>\n",
              "      <td>1006.2</td>\n",
              "      <td>-0.1</td>\n",
              "      <td>90.0</td>\n",
              "      <td>0.9</td>\n",
              "      <td>-0.8</td>\n",
              "      <td>NaN</td>\n",
              "      <td>eor</td>\n",
              "    </tr>\n",
              "    <tr>\n",
              "      <th>2</th>\n",
              "      <td>1048</td>\n",
              "      <td>1934-01-03</td>\n",
              "      <td>NaN</td>\n",
              "      <td>NaN</td>\n",
              "      <td>NaN</td>\n",
              "      <td>1</td>\n",
              "      <td>0.0</td>\n",
              "      <td>0.0</td>\n",
              "      <td>NaN</td>\n",
              "      <td>0.0</td>\n",
              "      <td>8.0</td>\n",
              "      <td>5.2</td>\n",
              "      <td>1001.6</td>\n",
              "      <td>-0.7</td>\n",
              "      <td>85.0</td>\n",
              "      <td>-0.1</td>\n",
              "      <td>-1.0</td>\n",
              "      <td>NaN</td>\n",
              "      <td>eor</td>\n",
              "    </tr>\n",
              "    <tr>\n",
              "      <th>3</th>\n",
              "      <td>1048</td>\n",
              "      <td>1934-01-04</td>\n",
              "      <td>NaN</td>\n",
              "      <td>NaN</td>\n",
              "      <td>NaN</td>\n",
              "      <td>1</td>\n",
              "      <td>0.0</td>\n",
              "      <td>1.0</td>\n",
              "      <td>NaN</td>\n",
              "      <td>0.0</td>\n",
              "      <td>8.0</td>\n",
              "      <td>4.8</td>\n",
              "      <td>1001.4</td>\n",
              "      <td>-1.6</td>\n",
              "      <td>82.0</td>\n",
              "      <td>-0.3</td>\n",
              "      <td>-3.5</td>\n",
              "      <td>NaN</td>\n",
              "      <td>eor</td>\n",
              "    </tr>\n",
              "    <tr>\n",
              "      <th>4</th>\n",
              "      <td>1048</td>\n",
              "      <td>1934-01-05</td>\n",
              "      <td>NaN</td>\n",
              "      <td>NaN</td>\n",
              "      <td>NaN</td>\n",
              "      <td>1</td>\n",
              "      <td>10.1</td>\n",
              "      <td>8.0</td>\n",
              "      <td>NaN</td>\n",
              "      <td>0.0</td>\n",
              "      <td>5.3</td>\n",
              "      <td>6.3</td>\n",
              "      <td>996.0</td>\n",
              "      <td>0.9</td>\n",
              "      <td>92.0</td>\n",
              "      <td>2.8</td>\n",
              "      <td>-3.8</td>\n",
              "      <td>NaN</td>\n",
              "      <td>eor</td>\n",
              "    </tr>\n",
              "  </tbody>\n",
              "</table>\n",
              "</div>"
            ]
          },
          "metadata": {}
        }
      ],
      "execution_count": 5,
      "metadata": {
        "collapsed": false,
        "pycharm": {
          "name": "#%%\n"
        }
      }
    },
    {
      "cell_type": "markdown",
      "source": [
        "See that DATE is already parsed, so we can easily get some nice graphs with matplotlib."
      ],
      "metadata": {}
    },
    {
      "cell_type": "markdown",
      "source": [
        "## 3. Let's create some plots"
      ],
      "metadata": {}
    },
    {
      "cell_type": "markdown",
      "source": [
        "First to have an easier job with the data, we want it to be transformed from tabular to column data, which means instead of having the data in several columns with an additional date column, we want three columns, where a set of all three defines the date of measured data, element and the exact value. To make it clear look at the following table, which is already transformed."
      ],
      "metadata": {}
    },
    {
      "cell_type": "code",
      "source": [
        "id_vars = [\"STATION_ID\", \"DATE\"]\n",
        "value_vars = station_data.columns\n",
        "value_vars = [var for var in value_vars if var not in id_vars]\n",
        "station_data_transformed = station_data.melt(id_vars=id_vars, value_vars=value_vars, var_name=\"ELEMENT\", value_name=\"VALUE\")\n",
        "\n",
        "station_data_transformed.head()"
      ],
      "outputs": [
        {
          "output_type": "execute_result",
          "execution_count": 9,
          "data": {
            "text/html": [
              "<div>\n",
              "<style scoped>\n",
              "    .dataframe tbody tr th:only-of-type {\n",
              "        vertical-align: middle;\n",
              "    }\n",
              "\n",
              "    .dataframe tbody tr th {\n",
              "        vertical-align: top;\n",
              "    }\n",
              "\n",
              "    .dataframe thead th {\n",
              "        text-align: right;\n",
              "    }\n",
              "</style>\n",
              "<table border=\"1\" class=\"dataframe\">\n",
              "  <thead>\n",
              "    <tr style=\"text-align: right;\">\n",
              "      <th></th>\n",
              "      <th>STATION_ID</th>\n",
              "      <th>DATE</th>\n",
              "      <th>ELEMENT</th>\n",
              "      <th>VALUE</th>\n",
              "    </tr>\n",
              "  </thead>\n",
              "  <tbody>\n",
              "    <tr>\n",
              "      <th>0</th>\n",
              "      <td>1048</td>\n",
              "      <td>1934-01-01</td>\n",
              "      <td>QN_3</td>\n",
              "      <td>NaN</td>\n",
              "    </tr>\n",
              "    <tr>\n",
              "      <th>1</th>\n",
              "      <td>1048</td>\n",
              "      <td>1934-01-02</td>\n",
              "      <td>QN_3</td>\n",
              "      <td>NaN</td>\n",
              "    </tr>\n",
              "    <tr>\n",
              "      <th>2</th>\n",
              "      <td>1048</td>\n",
              "      <td>1934-01-03</td>\n",
              "      <td>QN_3</td>\n",
              "      <td>NaN</td>\n",
              "    </tr>\n",
              "    <tr>\n",
              "      <th>3</th>\n",
              "      <td>1048</td>\n",
              "      <td>1934-01-04</td>\n",
              "      <td>QN_3</td>\n",
              "      <td>NaN</td>\n",
              "    </tr>\n",
              "    <tr>\n",
              "      <th>4</th>\n",
              "      <td>1048</td>\n",
              "      <td>1934-01-05</td>\n",
              "      <td>QN_3</td>\n",
              "      <td>NaN</td>\n",
              "    </tr>\n",
              "  </tbody>\n",
              "</table>\n",
              "</div>"
            ],
            "text/plain": [
              "   STATION_ID       DATE ELEMENT VALUE\n",
              "0        1048 1934-01-01    QN_3   NaN\n",
              "1        1048 1934-01-02    QN_3   NaN\n",
              "2        1048 1934-01-03    QN_3   NaN\n",
              "3        1048 1934-01-04    QN_3   NaN\n",
              "4        1048 1934-01-05    QN_3   NaN"
            ]
          },
          "metadata": {}
        }
      ],
      "execution_count": 9,
      "metadata": {
        "collapsed": false,
        "outputHidden": false,
        "inputHidden": false
      }
    },
    {
      "cell_type": "markdown",
      "source": [
        "* we can create a timeseries/histogram of some elements to compare the distribution of the values, here for example precipitation and mean temperature:"
      ],
      "metadata": {}
    },
    {
      "cell_type": "code",
      "source": [
        "elements_to_plot = [\"RSK\", \"TMK\"]\n",
        "station_data_filtered = station_data_transformed.loc[station_data_transformed[\"ELEMENT\"].isin(elements_to_plot)].sort_values([\"STATION_ID\", \"ELEMENT\", \"DATE\"])\n",
        "# station_data_filtered.groupby(\"ELEMENT\")[\"VALUE\"].plot.hist()\n",
        "\n",
        "station_data_grouped = station_data_filtered.groupby(\"ELEMENT\")[\"DATE\", \"VALUE\"] #.plot(x=\"DATE\", y=\"VALUE\")"
      ],
      "outputs": [],
      "execution_count": 10,
      "metadata": {
        "collapsed": false,
        "outputHidden": false,
        "inputHidden": false
      }
    },
    {
      "cell_type": "code",
      "source": [
        "cmap = plt.get_cmap('viridis')\n",
        "colors = cmap(np.linspace(0, 1, 2))\n",
        "\n",
        "fig, axes = plt.subplots(len(elements_to_plot), len(elements_to_plot), figsize=(10, 10))\n",
        "\n",
        "for (k, v), (ax1, ax2), color in zip(station_data_grouped, axes.T, colors):\n",
        "    v.plot(x=\"DATE\", y=\"VALUE\", label=k, alpha=.75, ax=ax1, c=color)\n",
        "    v.plot(y=\"VALUE\", kind=\"hist\", label=k, alpha=.75, ax=ax2)\n",
        "    \n",
        "plt.tight_layout()\n",
        "plt.subplots_adjust(top=0.9)\n",
        "plt.suptitle(\"Precipitation/Mean temperature timeseries of Dresden, Germany\")"
      ],
      "outputs": [
        {
          "output_type": "execute_result",
          "execution_count": 11,
          "data": {
            "text/plain": [
              "Text(0.5, 0.98, 'Precipitation/Mean temperature timeseries of Dresden, Germany')"
            ]
          },
          "metadata": {}
        },
        {
          "output_type": "display_data",
          "data": {
            "image/png": "[encoded data removed]",
            "text/plain": [
              "<Figure size 720x720 with 4 Axes>"
            ]
          },
          "metadata": {
            "needs_background": "light"
          }
        }
      ],
      "execution_count": 11,
      "metadata": {
        "collapsed": false,
        "outputHidden": false,
        "inputHidden": false
      }
    },
    {
      "cell_type": "markdown",
      "source": [
        "We can see here that the precipitation is completely left-skewed and not normal distributed, while the temperature is almost normaldistributed! Also the timeseries gives a glimpse on how much data is available! Sad notice here is the gap of WW2."
      ],
      "metadata": {}
    },
    {
      "cell_type": "markdown",
      "source": [
        "## 4. Create yearly values"
      ],
      "metadata": {}
    },
    {
      "cell_type": "code",
      "source": [
        "python_dwd.get_nearest_station([51.05089], [13.73832], Parameter.CLIMATE_SUMMARY, TimeResolution.DAILY, PeriodType.HISTORICAL)"
      ],
      "outputs": [
        {
          "output_type": "execute_result",
          "execution_count": 5,
          "data": {
            "text/plain": [
              "([1047], [1.3268238814030275])"
            ]
          },
          "metadata": {}
        }
      ],
      "execution_count": 5,
      "metadata": {
        "collapsed": false,
        "outputHidden": false,
        "inputHidden": false
      }
    }
  ],
  "metadata": {
    "kernel_info": {
      "name": "python3"
    },
    "language_info": {
      "name": "python",
      "version": "3.7.3",
      "mimetype": "text/x-python",
      "codemirror_mode": {
        "name": "ipython",
        "version": 3
      },
      "pygments_lexer": "ipython3",
      "nbconvert_exporter": "python",
      "file_extension": ".py"
    },
    "kernelspec": {
      "name": "python3",
      "language": "python",
      "display_name": "Python 3"
    },
    "nteract": {
      "version": "0.15.0"
    },
    "pycharm": {
      "stem_cell": {
        "cell_type": "raw",
        "source": [],
        "metadata": {
          "collapsed": false
        }
      }
    }
  },
  "nbformat": 4,
  "nbformat_minor": 4
}