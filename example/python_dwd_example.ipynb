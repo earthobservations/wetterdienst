{
  "cells": [
    {
      "cell_type": "code",
      "source": [
        "# pip install git+https://www.github.com/gezzze/pydwd@testing"
      ],
      "outputs": [],
      "execution_count": null,
      "metadata": {
        "collapsed": false,
        "outputHidden": false,
        "inputHidden": false
      }
    },
    {
      "cell_type": "markdown",
      "source": [
        "# Remove old files\n",
        "- dwd_data"
      ],
      "metadata": {}
    },
    {
      "cell_type": "code",
      "source": [
        "import pathlib\n",
        "\n",
        "# Function to remove files and folders \n",
        "def delete_folder(pth) :\n",
        "    for sub in pth.iterdir() :\n",
        "        if sub.is_dir():\n",
        "            delete_folder(sub)\n",
        "        else :\n",
        "            sub.unlink()\n",
        "    pth.rmdir()\n",
        "    \n",
        "delete_folder(pathlib.Path('dwd_data'))"
      ],
      "outputs": [],
      "execution_count": null,
      "metadata": {
        "collapsed": false,
        "outputHidden": false,
        "inputHidden": false
      }
    },
    {
      "cell_type": "markdown",
      "source": [
        "# Import modules necessary for general functioning\n"
      ],
      "metadata": {}
    },
    {
      "cell_type": "code",
      "source": [
        "# Modules used\n",
        "try:\n",
        "    import python_dwd\n",
        "except:\n",
        "    import sys\n",
        "    sys.path.append(\"..\")\n",
        "\n",
        "    import python_dwd\n",
        "\n",
        "import pandas as pd\n",
        "import numpy as np\n",
        "%matplotlib inline\n",
        "import matplotlib as mpl\n",
        "import matplotlib.pyplot as plt\n",
        "from python_dwd.enumerations.period_type_enumeration import PeriodType\n",
        "from python_dwd.enumerations.time_resolution_enumeration import TimeResolution\n",
        "from python_dwd.enumerations.parameter_enumeration import Parameter"
      ],
      "outputs": [],
      "execution_count": null,
      "metadata": {
        "collapsed": false,
        "outputHidden": false,
        "inputHidden": false
      }
    },
    {
      "cell_type": "markdown",
      "source": [
        "## 1. First check of a metadatafile\n",
        "- for daily climate historical file\n",
        "- metadata is printed with its shape/size and the number of available stations"
      ],
      "metadata": {}
    },
    {
      "cell_type": "code",
      "source": [
        "metadata_precip_daily = python_dwd.metadata_for_dwd_data(parameter=Parameter.PRECIPITATION_MORE,\n",
        "                                                         time_resolution=TimeResolution.DAILY,\n",
        "                                                         period_type=PeriodType.HISTORICAL)\n",
        "print(\"Size of dataframe: \", metadata_precip_daily.shape)\n",
        "print(\"Number of available stations: \", metadata_precip_daily[metadata_precip_daily.HAS_FILE == True].shape[0])\n",
        "metadata_precip_daily.head()"
      ],
      "outputs": [],
      "execution_count": null,
      "metadata": {
        "collapsed": false,
        "outputHidden": false,
        "inputHidden": false
      }
    },
    {
      "cell_type": "markdown",
      "source": [
        "The metadata includes an id, the range of the measurments, the position  (including height) as well as place and state of it and if it has a file. With the following plot we want to show a map of those stations:"
      ],
      "metadata": {}
    },
    {
      "cell_type": "code",
      "source": [
        "from matplotlib import cm\n",
        "cmap = cm.get_cmap('viridis')\n",
        "bounds = metadata_precip_daily.STATIONHEIGHT.quantile([0, 0.25, 0.5, 0.75, 1]).values\n",
        "norm = mpl.colors.BoundaryNorm(bounds, cmap.N)\n",
        "\n",
        "plot = metadata_precip_daily.plot.scatter(x=\"LON\", y=\"LAT\", c=\"STATIONHEIGHT\", cmap=cmap, norm=norm)\n",
        "plot.set_title(\"Map of daily precipitation stations in Germany\\nColor refers to height of station\")"
      ],
      "outputs": [],
      "execution_count": null,
      "metadata": {
        "collapsed": false,
        "outputHidden": false,
        "inputHidden": false
      }
    },
    {
      "cell_type": "markdown",
      "source": [
        "## 2. The usual way of retrieving data"
      ],
      "metadata": {}
    },
    {
      "cell_type": "markdown",
      "source": [
        "We first select our station with select_dwd as chosen from the above metadata by:\n",
        "- it's id and\n",
        "    * 1048 for Dresden, Germany \n",
        "- the composition of parameters\n",
        "    * var=\"kl\" for climate\n",
        "    * res=\"daily\" for daily data\n",
        "    * per=\"historical\" for data of all time"
      ],
      "metadata": {}
    },
    {
      "cell_type": "code",
      "source": [
        "# Receive data for Dresden-Klotzsche (STATION_ID 1048)\n",
        "# Link\n",
        "remote_file_path = python_dwd.create_file_list_for_dwd_server(statid=[1048],\n",
        "                                                              parameter=Parameter.CLIMATE_SUMMARY,\n",
        "                                                              time_resolution=TimeResolution.DAILY,\n",
        "                                                              period_type=PeriodType.HISTORICAL) \n",
        "remote_file_path"
      ],
      "outputs": [],
      "execution_count": null,
      "metadata": {
        "collapsed": false,
        "outputHidden": false,
        "inputHidden": false
      }
    },
    {
      "cell_type": "markdown",
      "source": [
        "The function returns a link which leads to the server path where we can find the file. It is downloaded with download_dwd and the link from above:"
      ],
      "metadata": {}
    },
    {
      "cell_type": "code",
      "source": [
        "# Download\n",
        "station_download = python_dwd.download_dwd_data(remote_file_path)"
      ],
      "outputs": [],
      "execution_count": null,
      "metadata": {
        "collapsed": false,
        "outputHidden": false,
        "inputHidden": false
      }
    },
    {
      "cell_type": "markdown",
      "source": [
        "The returned link now leads to the local file. Next we read it in with read_dwd et voila, the function presents us a DataFrame with first values."
      ],
      "metadata": {
        "collapsed": false
      }
    },
    {
      "cell_type": "code",
      "source": [
        "station_data = python_dwd.parse_dwd_data(station_download)\n",
        "station_data.head()"
      ],
      "outputs": [],
      "execution_count": null,
      "metadata": {
        "collapsed": false,
        "pycharm": {
          "name": "#%%\n"
        }
      }
    },
    {
      "cell_type": "markdown",
      "source": [
        "See that DATE is already parsed, so we can easily get some nice graphs with matplotlib."
      ],
      "metadata": {}
    },
    {
      "cell_type": "markdown",
      "source": [
        "## 3. Let's create some plots"
      ],
      "metadata": {}
    },
    {
      "cell_type": "markdown",
      "source": [
        "First to have an easier job with the data, we want it to be transformed from tabular to column data, which means instead of having the data in several columns with an additional date column, we want three columns, where a set of all three defines the date of measured data, element and the exact value. To make it clear look at the following table, which is already transformed."
      ],
      "metadata": {}
    },
    {
      "cell_type": "code",
      "source": [
        "id_vars = [\"STATION_ID\", \"DATE\"]\n",
        "value_vars = station_data.columns\n",
        "value_vars = [var for var in value_vars if var not in id_vars]\n",
        "station_data_transformed = station_data.melt(id_vars=id_vars, value_vars=value_vars, var_name=\"ELEMENT\", value_name=\"VALUE\")\n",
        "\n",
        "station_data_transformed.head()"
      ],
      "outputs": [],
      "execution_count": null,
      "metadata": {
        "collapsed": false,
        "outputHidden": false,
        "inputHidden": false
      }
    },
    {
      "cell_type": "markdown",
      "source": [
        "* we can create a timeseries/histogram of some elements to compare the distribution of the values, here for example precipitation and mean temperature:"
      ],
      "metadata": {}
    },
    {
      "cell_type": "code",
      "source": [
        "elements_to_plot = [\"RSK\", \"TMK\"]\n",
        "station_data_filtered = station_data_transformed.loc[station_data_transformed[\"ELEMENT\"].isin(elements_to_plot)].sort_values([\"STATION_ID\", \"ELEMENT\", \"DATE\"])\n",
        "# station_data_filtered.groupby(\"ELEMENT\")[\"VALUE\"].plot.hist()\n",
        "\n",
        "station_data_grouped = station_data_filtered.groupby(\"ELEMENT\")[\"DATE\", \"VALUE\"] #.plot(x=\"DATE\", y=\"VALUE\")"
      ],
      "outputs": [],
      "execution_count": null,
      "metadata": {
        "collapsed": false,
        "outputHidden": false,
        "inputHidden": false
      }
    },
    {
      "cell_type": "code",
      "source": [
        "cmap = plt.get_cmap('viridis')\n",
        "colors = cmap(np.linspace(0, 1, 2))\n",
        "\n",
        "fig, axes = plt.subplots(len(elements_to_plot), len(elements_to_plot), figsize=(10, 10))\n",
        "\n",
        "for (k, v), (ax1, ax2), color in zip(station_data_grouped, axes.T, colors):\n",
        "    v.plot(x=\"DATE\", y=\"VALUE\", label=k, alpha=.75, ax=ax1, c=color)\n",
        "    v.plot(y=\"VALUE\", kind=\"hist\", label=k, alpha=.75, ax=ax2)\n",
        "    \n",
        "plt.tight_layout()\n",
        "plt.subplots_adjust(top=0.9)\n",
        "plt.suptitle(\"Precipitation/Mean temperature timeseries of Dresden, Germany\")"
      ],
      "outputs": [],
      "execution_count": null,
      "metadata": {
        "collapsed": false,
        "outputHidden": false,
        "inputHidden": false
      }
    },
    {
      "cell_type": "markdown",
      "source": [
        "We can see here that the precipitation is completely left-skewed and not normal distributed, while the temperature is almost normaldistributed! Also the timeseries gives a glimpse on how much data is available! Sad notice here is the gap of WW2."
      ],
      "metadata": {}
    },
    {
      "cell_type": "markdown",
      "source": [
        "## 4. Create yearly values"
      ],
      "metadata": {}
    },
    {
      "cell_type": "code",
      "source": [
        "python_dwd.get_nearest_station([51.05089], [13.73832], Parameter.CLIMATE_SUMMARY, TimeResolution.DAILY, PeriodType.HISTORICAL)"
      ],
      "outputs": [],
      "execution_count": null,
      "metadata": {
        "collapsed": false,
        "outputHidden": false,
        "inputHidden": false
      }
    }
  ],
  "metadata": {
    "kernel_info": {
      "name": "python3"
    },
    "language_info": {
      "name": "python",
      "version": "3.7.3",
      "mimetype": "text/x-python",
      "codemirror_mode": {
        "name": "ipython",
        "version": 3
      },
      "pygments_lexer": "ipython3",
      "nbconvert_exporter": "python",
      "file_extension": ".py"
    },
    "kernelspec": {
      "name": "python3",
      "language": "python",
      "display_name": "Python 3"
    },
    "nteract": {
      "version": "0.15.0"
    },
    "pycharm": {
      "stem_cell": {
        "cell_type": "raw",
        "source": [],
        "metadata": {
          "collapsed": false
        }
      }
    }
  },
  "nbformat": 4,
  "nbformat_minor": 4
}